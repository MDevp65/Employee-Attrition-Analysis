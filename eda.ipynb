{
 "cells": [
  {
   "cell_type": "markdown",
   "id": "a3d46fce",
   "metadata": {},
   "source": [
    "# Employee Attrition Data\n",
    "## Complete EDA analysis for Beginners to Advance EDA\n",
    "### About Dataset\n",
    "> - Description <br>\n",
    "The Data Set was downloaded from Kaggle, from the following [link](https://www.kaggle.com/datasets/pavansubhasht/ibm-hr-analytics-attrition-dataset)<br>\n",
    "\n",
    "Uncover the factors that lead to employee attrition and explore important questions such as ‘show me a breakdown of distance from home by job role and attrition’ or ‘compare average monthly income by education and attrition’. This is a fictional data set created by IBM data scientists."
   ]
  },
  {
   "cell_type": "markdown",
   "id": "c1e916a1",
   "metadata": {},
   "source": [
    "Here's a description of each column you would typically find in the IBM HR Analytics Employee Attrition & Performance dataset, categorized for clarity:\n",
    "\n",
    "## Employee Demographics & Personal Information\n",
    "- **Age**: The age of the employee. (Numerical)\n",
    "\n",
    "- **Gender**: The gender of the employee (e.g., 'Male', 'Female'). (Categorical)\n",
    "\n",
    "- **MaritalStatus**: The marital status of the employee (e.g., 'Single', 'Married', 'Divorced'). (Categorical)\n",
    "\n",
    "- **Education**: The level of education achieved by the employee (e.g., 1 'Below College', 2 'College', 3 'Bachelor', 4 'Master', 5 'Doctor'). (Numerical/Categorical)\n",
    "\n",
    "- **EducationField**: The field of education (e.g., 'Life Sciences', 'Medical', 'Marketing', 'Technical Degree', 'Human Resources', 'Other'). (Categorical)\n",
    "\n",
    "- **DistanceFromHome**: The distance in miles from the employee's home to the workplace. (Numerical)\n",
    "\n",
    "## Job & Company Information\n",
    "- **Department**: The department the employee works in (e.g., 'Sales', 'Research & Development', 'Human Resources'). (Categorical)\n",
    "\n",
    "- **JobRole**: The specific job role of the employee (e.g., 'Sales Executive', 'Research Scientist', 'Laboratory Technician', 'Manufacturing Director', 'Healthcare Representative', 'Manager', 'Sales Representative', 'Research Director', 'Human Resources'). (Categorical)\n",
    "\n",
    "- **JobLevel**: The job level of the employee (e.g., 1 to 5, representing increasing seniority). (Numerical/Categorical)\n",
    "\n",
    "- **BusinessTravel**: How frequently the employee travels for business (e.g., 'Non-Travel', 'Travel_Rarely', 'Travel_Frequently'). (Categorical)\n",
    "\n",
    "- **OverTime**: Whether the employee works overtime ('Yes' or 'No'). (Categorical)\n",
    "\n",
    "- **NumCompaniesWorked**: The total number of companies the employee has worked for prior to the current one. (Numerical)\n",
    "\n",
    "- **TotalWorkingYears**: The total number of years the employee has worked in their career. (Numerical)\n",
    "\n",
    "- **YearsAtCompany**: The number of years the employee has been with the current company. (Numerical)\n",
    "\n",
    "- **YearsInCurrentRole**: The number of years the employee has held their current role within the company. (Numerical)\n",
    "\n",
    "- **YearsSinceLastPromotion**: The number of years since the employee's last promotion. (Numerical)\n",
    "\n",
    "- **YearsWithCurrentManager**: The number of years the employee has been with their current manager. (Numerical)\n",
    "\n",
    "## Performance & Satisfaction Metrics\n",
    "- **JobInvolvement**: The level of job involvement (e.g., 1 'Low', 2 'Medium', 3 'High', 4 'Very High'). (Numerical/Categorical)\n",
    "\n",
    "- **JobSatisfaction**: The level of job satisfaction (e.g., 1 'Low', 2 'Medium', 3 'High', 4 'Very High'). (Numerical/Categorical)\n",
    "\n",
    "- **PerformanceRating**: The employee's performance rating (e.g., 1 'Low', 2 'Good', 3 'Excellent', 4 'Outstanding'). (Numerical/Categorical)\n",
    "\n",
    "- **EnvironmentSatisfaction**: The level of environment satisfaction (e.g., 1 'Low', 2 'Medium', 3 'High', 4 'Very High'). (Numerical/Categorical)\n",
    "\n",
    "- **RelationshipSatisfaction**: The level of relationship satisfaction (e.g., 1 'Low', 2 'Medium', 3 'High', 4 'Very High'). (Numerical/Categorical)\n",
    "\n",
    "- **WorkLifeBalance**: The level of work-life balance (e.g., 1 'Bad', 2 'Good', 3 'Better', 4 'Best'). (Numerical/Categorical)\n",
    "\n",
    "## Compensation & Benefits\n",
    "- **DailyRate**: The daily rate of pay for the employee. (Numerical)\n",
    "\n",
    "- **HourlyRate**: The hourly rate of pay for the employee. (Numerical)\n",
    "\n",
    "- **MonthlyIncome**: The monthly income of the employee. (Numerical)\n",
    "\n",
    "- **MonthlyRate**: The monthly rate of pay for the employee. (Numerical)\n",
    "\n",
    "- **PercentSalaryHike**: The percentage increase in salary for the employee in the last year. (Numerical)\n",
    "\n",
    "- **StockOptionLevel**: The level of stock option granted to the employee (e.g., 0 to 3). (Numerical/Categorical)\n",
    "\n",
    "## Unique Identifiers & Target Variable\n",
    "- **EmployeeCount**: Always 1 for each employee, indicating individual records. (Numerical)\n",
    "\n",
    "- **EmployeeNumber**: A unique identifier for each employee. (Numerical)\n",
    "\n",
    "- **StandardHours**: Always 80, representing standard working hours. (Numerical)\n",
    "\n",
    "- **Attrition**: The target variable, indicating whether the employee left the company ('Yes') or stayed ('No'). (Categorical - Binary)"
   ]
  },
  {
   "cell_type": "markdown",
   "id": "a148d0bd",
   "metadata": {},
   "source": [
    "# Importing Libraries\n",
    "- **pandas**: for basic eda operations\n",
    "- **plotly**: for visualization\n",
    "- **numpy**: for numperical computations"
   ]
  },
  {
   "cell_type": "code",
   "execution_count": 1,
   "id": "9cf01819",
   "metadata": {},
   "outputs": [],
   "source": [
    "# importing libraries \n",
    "import pandas as pd\n",
    "import plotly.express as px\n",
    "import numpy as np\n",
    "import matplotlib.pyplot as plt\n",
    "import seaborn as sns"
   ]
  },
  {
   "cell_type": "markdown",
   "id": "a5f2580e",
   "metadata": {},
   "source": [
    "# Loading Dataset"
   ]
  },
  {
   "cell_type": "code",
   "execution_count": 2,
   "id": "54891344",
   "metadata": {},
   "outputs": [],
   "source": [
    "# loading dataset into pandas dataframe\n",
    "df = pd.read_csv(\"./Employee_Attrition.csv\")"
   ]
  },
  {
   "cell_type": "markdown",
   "id": "fd59bfdf",
   "metadata": {},
   "source": [
    "# Quick Overview of DataSet"
   ]
  },
  {
   "cell_type": "code",
   "execution_count": 3,
   "id": "94de907f",
   "metadata": {},
   "outputs": [
    {
     "data": {
      "text/html": [
       "<div>\n",
       "<style scoped>\n",
       "    .dataframe tbody tr th:only-of-type {\n",
       "        vertical-align: middle;\n",
       "    }\n",
       "\n",
       "    .dataframe tbody tr th {\n",
       "        vertical-align: top;\n",
       "    }\n",
       "\n",
       "    .dataframe thead th {\n",
       "        text-align: right;\n",
       "    }\n",
       "</style>\n",
       "<table border=\"1\" class=\"dataframe\">\n",
       "  <thead>\n",
       "    <tr style=\"text-align: right;\">\n",
       "      <th></th>\n",
       "      <th>Age</th>\n",
       "      <th>Attrition</th>\n",
       "      <th>BusinessTravel</th>\n",
       "      <th>DailyRate</th>\n",
       "      <th>Department</th>\n",
       "      <th>DistanceFromHome</th>\n",
       "      <th>Education</th>\n",
       "      <th>EducationField</th>\n",
       "      <th>EmployeeCount</th>\n",
       "      <th>EmployeeNumber</th>\n",
       "      <th>...</th>\n",
       "      <th>RelationshipSatisfaction</th>\n",
       "      <th>StandardHours</th>\n",
       "      <th>StockOptionLevel</th>\n",
       "      <th>TotalWorkingYears</th>\n",
       "      <th>TrainingTimesLastYear</th>\n",
       "      <th>WorkLifeBalance</th>\n",
       "      <th>YearsAtCompany</th>\n",
       "      <th>YearsInCurrentRole</th>\n",
       "      <th>YearsSinceLastPromotion</th>\n",
       "      <th>YearsWithCurrManager</th>\n",
       "    </tr>\n",
       "  </thead>\n",
       "  <tbody>\n",
       "    <tr>\n",
       "      <th>0</th>\n",
       "      <td>41</td>\n",
       "      <td>Yes</td>\n",
       "      <td>Travel_Rarely</td>\n",
       "      <td>1102</td>\n",
       "      <td>Sales</td>\n",
       "      <td>1</td>\n",
       "      <td>2</td>\n",
       "      <td>Life Sciences</td>\n",
       "      <td>1</td>\n",
       "      <td>1</td>\n",
       "      <td>...</td>\n",
       "      <td>1</td>\n",
       "      <td>80</td>\n",
       "      <td>0</td>\n",
       "      <td>8</td>\n",
       "      <td>0</td>\n",
       "      <td>1</td>\n",
       "      <td>6</td>\n",
       "      <td>4</td>\n",
       "      <td>0</td>\n",
       "      <td>5</td>\n",
       "    </tr>\n",
       "    <tr>\n",
       "      <th>1</th>\n",
       "      <td>49</td>\n",
       "      <td>No</td>\n",
       "      <td>Travel_Frequently</td>\n",
       "      <td>279</td>\n",
       "      <td>Research &amp; Development</td>\n",
       "      <td>8</td>\n",
       "      <td>1</td>\n",
       "      <td>Life Sciences</td>\n",
       "      <td>1</td>\n",
       "      <td>2</td>\n",
       "      <td>...</td>\n",
       "      <td>4</td>\n",
       "      <td>80</td>\n",
       "      <td>1</td>\n",
       "      <td>10</td>\n",
       "      <td>3</td>\n",
       "      <td>3</td>\n",
       "      <td>10</td>\n",
       "      <td>7</td>\n",
       "      <td>1</td>\n",
       "      <td>7</td>\n",
       "    </tr>\n",
       "    <tr>\n",
       "      <th>2</th>\n",
       "      <td>37</td>\n",
       "      <td>Yes</td>\n",
       "      <td>Travel_Rarely</td>\n",
       "      <td>1373</td>\n",
       "      <td>Research &amp; Development</td>\n",
       "      <td>2</td>\n",
       "      <td>2</td>\n",
       "      <td>Other</td>\n",
       "      <td>1</td>\n",
       "      <td>4</td>\n",
       "      <td>...</td>\n",
       "      <td>2</td>\n",
       "      <td>80</td>\n",
       "      <td>0</td>\n",
       "      <td>7</td>\n",
       "      <td>3</td>\n",
       "      <td>3</td>\n",
       "      <td>0</td>\n",
       "      <td>0</td>\n",
       "      <td>0</td>\n",
       "      <td>0</td>\n",
       "    </tr>\n",
       "    <tr>\n",
       "      <th>3</th>\n",
       "      <td>33</td>\n",
       "      <td>No</td>\n",
       "      <td>Travel_Frequently</td>\n",
       "      <td>1392</td>\n",
       "      <td>Research &amp; Development</td>\n",
       "      <td>3</td>\n",
       "      <td>4</td>\n",
       "      <td>Life Sciences</td>\n",
       "      <td>1</td>\n",
       "      <td>5</td>\n",
       "      <td>...</td>\n",
       "      <td>3</td>\n",
       "      <td>80</td>\n",
       "      <td>0</td>\n",
       "      <td>8</td>\n",
       "      <td>3</td>\n",
       "      <td>3</td>\n",
       "      <td>8</td>\n",
       "      <td>7</td>\n",
       "      <td>3</td>\n",
       "      <td>0</td>\n",
       "    </tr>\n",
       "    <tr>\n",
       "      <th>4</th>\n",
       "      <td>27</td>\n",
       "      <td>No</td>\n",
       "      <td>Travel_Rarely</td>\n",
       "      <td>591</td>\n",
       "      <td>Research &amp; Development</td>\n",
       "      <td>2</td>\n",
       "      <td>1</td>\n",
       "      <td>Medical</td>\n",
       "      <td>1</td>\n",
       "      <td>7</td>\n",
       "      <td>...</td>\n",
       "      <td>4</td>\n",
       "      <td>80</td>\n",
       "      <td>1</td>\n",
       "      <td>6</td>\n",
       "      <td>3</td>\n",
       "      <td>3</td>\n",
       "      <td>2</td>\n",
       "      <td>2</td>\n",
       "      <td>2</td>\n",
       "      <td>2</td>\n",
       "    </tr>\n",
       "  </tbody>\n",
       "</table>\n",
       "<p>5 rows × 35 columns</p>\n",
       "</div>"
      ],
      "text/plain": [
       "   Age Attrition     BusinessTravel  DailyRate              Department  \\\n",
       "0   41       Yes      Travel_Rarely       1102                   Sales   \n",
       "1   49        No  Travel_Frequently        279  Research & Development   \n",
       "2   37       Yes      Travel_Rarely       1373  Research & Development   \n",
       "3   33        No  Travel_Frequently       1392  Research & Development   \n",
       "4   27        No      Travel_Rarely        591  Research & Development   \n",
       "\n",
       "   DistanceFromHome  Education EducationField  EmployeeCount  EmployeeNumber  \\\n",
       "0                 1          2  Life Sciences              1               1   \n",
       "1                 8          1  Life Sciences              1               2   \n",
       "2                 2          2          Other              1               4   \n",
       "3                 3          4  Life Sciences              1               5   \n",
       "4                 2          1        Medical              1               7   \n",
       "\n",
       "   ...  RelationshipSatisfaction StandardHours  StockOptionLevel  \\\n",
       "0  ...                         1            80                 0   \n",
       "1  ...                         4            80                 1   \n",
       "2  ...                         2            80                 0   \n",
       "3  ...                         3            80                 0   \n",
       "4  ...                         4            80                 1   \n",
       "\n",
       "   TotalWorkingYears  TrainingTimesLastYear WorkLifeBalance  YearsAtCompany  \\\n",
       "0                  8                      0               1               6   \n",
       "1                 10                      3               3              10   \n",
       "2                  7                      3               3               0   \n",
       "3                  8                      3               3               8   \n",
       "4                  6                      3               3               2   \n",
       "\n",
       "  YearsInCurrentRole  YearsSinceLastPromotion  YearsWithCurrManager  \n",
       "0                  4                        0                     5  \n",
       "1                  7                        1                     7  \n",
       "2                  0                        0                     0  \n",
       "3                  7                        3                     0  \n",
       "4                  2                        2                     2  \n",
       "\n",
       "[5 rows x 35 columns]"
      ]
     },
     "execution_count": 3,
     "metadata": {},
     "output_type": "execute_result"
    }
   ],
   "source": [
    "df.head()"
   ]
  },
  {
   "cell_type": "markdown",
   "id": "8e8d67c6",
   "metadata": {},
   "source": [
    "- there are 35 columns in dataset, but all the columns are not displaying above. So we can display all the columns:"
   ]
  },
  {
   "cell_type": "code",
   "execution_count": 4,
   "id": "06e7ff40",
   "metadata": {},
   "outputs": [],
   "source": [
    "# set options to be maximum for rows and columns\n",
    "pd.set_option('display.max_columns', None)\n",
    "# hide all warnings\n",
    "import warnings\n",
    "warnings.filterwarnings('ignore') "
   ]
  },
  {
   "cell_type": "code",
   "execution_count": 5,
   "id": "a2eb9036",
   "metadata": {},
   "outputs": [
    {
     "data": {
      "text/html": [
       "<div>\n",
       "<style scoped>\n",
       "    .dataframe tbody tr th:only-of-type {\n",
       "        vertical-align: middle;\n",
       "    }\n",
       "\n",
       "    .dataframe tbody tr th {\n",
       "        vertical-align: top;\n",
       "    }\n",
       "\n",
       "    .dataframe thead th {\n",
       "        text-align: right;\n",
       "    }\n",
       "</style>\n",
       "<table border=\"1\" class=\"dataframe\">\n",
       "  <thead>\n",
       "    <tr style=\"text-align: right;\">\n",
       "      <th></th>\n",
       "      <th>Age</th>\n",
       "      <th>Attrition</th>\n",
       "      <th>BusinessTravel</th>\n",
       "      <th>DailyRate</th>\n",
       "      <th>Department</th>\n",
       "      <th>DistanceFromHome</th>\n",
       "      <th>Education</th>\n",
       "      <th>EducationField</th>\n",
       "      <th>EmployeeCount</th>\n",
       "      <th>EmployeeNumber</th>\n",
       "      <th>EnvironmentSatisfaction</th>\n",
       "      <th>Gender</th>\n",
       "      <th>HourlyRate</th>\n",
       "      <th>JobInvolvement</th>\n",
       "      <th>JobLevel</th>\n",
       "      <th>JobRole</th>\n",
       "      <th>JobSatisfaction</th>\n",
       "      <th>MaritalStatus</th>\n",
       "      <th>MonthlyIncome</th>\n",
       "      <th>MonthlyRate</th>\n",
       "      <th>NumCompaniesWorked</th>\n",
       "      <th>Over18</th>\n",
       "      <th>OverTime</th>\n",
       "      <th>PercentSalaryHike</th>\n",
       "      <th>PerformanceRating</th>\n",
       "      <th>RelationshipSatisfaction</th>\n",
       "      <th>StandardHours</th>\n",
       "      <th>StockOptionLevel</th>\n",
       "      <th>TotalWorkingYears</th>\n",
       "      <th>TrainingTimesLastYear</th>\n",
       "      <th>WorkLifeBalance</th>\n",
       "      <th>YearsAtCompany</th>\n",
       "      <th>YearsInCurrentRole</th>\n",
       "      <th>YearsSinceLastPromotion</th>\n",
       "      <th>YearsWithCurrManager</th>\n",
       "    </tr>\n",
       "  </thead>\n",
       "  <tbody>\n",
       "    <tr>\n",
       "      <th>0</th>\n",
       "      <td>41</td>\n",
       "      <td>Yes</td>\n",
       "      <td>Travel_Rarely</td>\n",
       "      <td>1102</td>\n",
       "      <td>Sales</td>\n",
       "      <td>1</td>\n",
       "      <td>2</td>\n",
       "      <td>Life Sciences</td>\n",
       "      <td>1</td>\n",
       "      <td>1</td>\n",
       "      <td>2</td>\n",
       "      <td>Female</td>\n",
       "      <td>94</td>\n",
       "      <td>3</td>\n",
       "      <td>2</td>\n",
       "      <td>Sales Executive</td>\n",
       "      <td>4</td>\n",
       "      <td>Single</td>\n",
       "      <td>5993</td>\n",
       "      <td>19479</td>\n",
       "      <td>8</td>\n",
       "      <td>Y</td>\n",
       "      <td>Yes</td>\n",
       "      <td>11</td>\n",
       "      <td>3</td>\n",
       "      <td>1</td>\n",
       "      <td>80</td>\n",
       "      <td>0</td>\n",
       "      <td>8</td>\n",
       "      <td>0</td>\n",
       "      <td>1</td>\n",
       "      <td>6</td>\n",
       "      <td>4</td>\n",
       "      <td>0</td>\n",
       "      <td>5</td>\n",
       "    </tr>\n",
       "    <tr>\n",
       "      <th>1</th>\n",
       "      <td>49</td>\n",
       "      <td>No</td>\n",
       "      <td>Travel_Frequently</td>\n",
       "      <td>279</td>\n",
       "      <td>Research &amp; Development</td>\n",
       "      <td>8</td>\n",
       "      <td>1</td>\n",
       "      <td>Life Sciences</td>\n",
       "      <td>1</td>\n",
       "      <td>2</td>\n",
       "      <td>3</td>\n",
       "      <td>Male</td>\n",
       "      <td>61</td>\n",
       "      <td>2</td>\n",
       "      <td>2</td>\n",
       "      <td>Research Scientist</td>\n",
       "      <td>2</td>\n",
       "      <td>Married</td>\n",
       "      <td>5130</td>\n",
       "      <td>24907</td>\n",
       "      <td>1</td>\n",
       "      <td>Y</td>\n",
       "      <td>No</td>\n",
       "      <td>23</td>\n",
       "      <td>4</td>\n",
       "      <td>4</td>\n",
       "      <td>80</td>\n",
       "      <td>1</td>\n",
       "      <td>10</td>\n",
       "      <td>3</td>\n",
       "      <td>3</td>\n",
       "      <td>10</td>\n",
       "      <td>7</td>\n",
       "      <td>1</td>\n",
       "      <td>7</td>\n",
       "    </tr>\n",
       "    <tr>\n",
       "      <th>2</th>\n",
       "      <td>37</td>\n",
       "      <td>Yes</td>\n",
       "      <td>Travel_Rarely</td>\n",
       "      <td>1373</td>\n",
       "      <td>Research &amp; Development</td>\n",
       "      <td>2</td>\n",
       "      <td>2</td>\n",
       "      <td>Other</td>\n",
       "      <td>1</td>\n",
       "      <td>4</td>\n",
       "      <td>4</td>\n",
       "      <td>Male</td>\n",
       "      <td>92</td>\n",
       "      <td>2</td>\n",
       "      <td>1</td>\n",
       "      <td>Laboratory Technician</td>\n",
       "      <td>3</td>\n",
       "      <td>Single</td>\n",
       "      <td>2090</td>\n",
       "      <td>2396</td>\n",
       "      <td>6</td>\n",
       "      <td>Y</td>\n",
       "      <td>Yes</td>\n",
       "      <td>15</td>\n",
       "      <td>3</td>\n",
       "      <td>2</td>\n",
       "      <td>80</td>\n",
       "      <td>0</td>\n",
       "      <td>7</td>\n",
       "      <td>3</td>\n",
       "      <td>3</td>\n",
       "      <td>0</td>\n",
       "      <td>0</td>\n",
       "      <td>0</td>\n",
       "      <td>0</td>\n",
       "    </tr>\n",
       "    <tr>\n",
       "      <th>3</th>\n",
       "      <td>33</td>\n",
       "      <td>No</td>\n",
       "      <td>Travel_Frequently</td>\n",
       "      <td>1392</td>\n",
       "      <td>Research &amp; Development</td>\n",
       "      <td>3</td>\n",
       "      <td>4</td>\n",
       "      <td>Life Sciences</td>\n",
       "      <td>1</td>\n",
       "      <td>5</td>\n",
       "      <td>4</td>\n",
       "      <td>Female</td>\n",
       "      <td>56</td>\n",
       "      <td>3</td>\n",
       "      <td>1</td>\n",
       "      <td>Research Scientist</td>\n",
       "      <td>3</td>\n",
       "      <td>Married</td>\n",
       "      <td>2909</td>\n",
       "      <td>23159</td>\n",
       "      <td>1</td>\n",
       "      <td>Y</td>\n",
       "      <td>Yes</td>\n",
       "      <td>11</td>\n",
       "      <td>3</td>\n",
       "      <td>3</td>\n",
       "      <td>80</td>\n",
       "      <td>0</td>\n",
       "      <td>8</td>\n",
       "      <td>3</td>\n",
       "      <td>3</td>\n",
       "      <td>8</td>\n",
       "      <td>7</td>\n",
       "      <td>3</td>\n",
       "      <td>0</td>\n",
       "    </tr>\n",
       "    <tr>\n",
       "      <th>4</th>\n",
       "      <td>27</td>\n",
       "      <td>No</td>\n",
       "      <td>Travel_Rarely</td>\n",
       "      <td>591</td>\n",
       "      <td>Research &amp; Development</td>\n",
       "      <td>2</td>\n",
       "      <td>1</td>\n",
       "      <td>Medical</td>\n",
       "      <td>1</td>\n",
       "      <td>7</td>\n",
       "      <td>1</td>\n",
       "      <td>Male</td>\n",
       "      <td>40</td>\n",
       "      <td>3</td>\n",
       "      <td>1</td>\n",
       "      <td>Laboratory Technician</td>\n",
       "      <td>2</td>\n",
       "      <td>Married</td>\n",
       "      <td>3468</td>\n",
       "      <td>16632</td>\n",
       "      <td>9</td>\n",
       "      <td>Y</td>\n",
       "      <td>No</td>\n",
       "      <td>12</td>\n",
       "      <td>3</td>\n",
       "      <td>4</td>\n",
       "      <td>80</td>\n",
       "      <td>1</td>\n",
       "      <td>6</td>\n",
       "      <td>3</td>\n",
       "      <td>3</td>\n",
       "      <td>2</td>\n",
       "      <td>2</td>\n",
       "      <td>2</td>\n",
       "      <td>2</td>\n",
       "    </tr>\n",
       "  </tbody>\n",
       "</table>\n",
       "</div>"
      ],
      "text/plain": [
       "   Age Attrition     BusinessTravel  DailyRate              Department  \\\n",
       "0   41       Yes      Travel_Rarely       1102                   Sales   \n",
       "1   49        No  Travel_Frequently        279  Research & Development   \n",
       "2   37       Yes      Travel_Rarely       1373  Research & Development   \n",
       "3   33        No  Travel_Frequently       1392  Research & Development   \n",
       "4   27        No      Travel_Rarely        591  Research & Development   \n",
       "\n",
       "   DistanceFromHome  Education EducationField  EmployeeCount  EmployeeNumber  \\\n",
       "0                 1          2  Life Sciences              1               1   \n",
       "1                 8          1  Life Sciences              1               2   \n",
       "2                 2          2          Other              1               4   \n",
       "3                 3          4  Life Sciences              1               5   \n",
       "4                 2          1        Medical              1               7   \n",
       "\n",
       "   EnvironmentSatisfaction  Gender  HourlyRate  JobInvolvement  JobLevel  \\\n",
       "0                        2  Female          94               3         2   \n",
       "1                        3    Male          61               2         2   \n",
       "2                        4    Male          92               2         1   \n",
       "3                        4  Female          56               3         1   \n",
       "4                        1    Male          40               3         1   \n",
       "\n",
       "                 JobRole  JobSatisfaction MaritalStatus  MonthlyIncome  \\\n",
       "0        Sales Executive                4        Single           5993   \n",
       "1     Research Scientist                2       Married           5130   \n",
       "2  Laboratory Technician                3        Single           2090   \n",
       "3     Research Scientist                3       Married           2909   \n",
       "4  Laboratory Technician                2       Married           3468   \n",
       "\n",
       "   MonthlyRate  NumCompaniesWorked Over18 OverTime  PercentSalaryHike  \\\n",
       "0        19479                   8      Y      Yes                 11   \n",
       "1        24907                   1      Y       No                 23   \n",
       "2         2396                   6      Y      Yes                 15   \n",
       "3        23159                   1      Y      Yes                 11   \n",
       "4        16632                   9      Y       No                 12   \n",
       "\n",
       "   PerformanceRating  RelationshipSatisfaction  StandardHours  \\\n",
       "0                  3                         1             80   \n",
       "1                  4                         4             80   \n",
       "2                  3                         2             80   \n",
       "3                  3                         3             80   \n",
       "4                  3                         4             80   \n",
       "\n",
       "   StockOptionLevel  TotalWorkingYears  TrainingTimesLastYear  \\\n",
       "0                 0                  8                      0   \n",
       "1                 1                 10                      3   \n",
       "2                 0                  7                      3   \n",
       "3                 0                  8                      3   \n",
       "4                 1                  6                      3   \n",
       "\n",
       "   WorkLifeBalance  YearsAtCompany  YearsInCurrentRole  \\\n",
       "0                1               6                   4   \n",
       "1                3              10                   7   \n",
       "2                3               0                   0   \n",
       "3                3               8                   7   \n",
       "4                3               2                   2   \n",
       "\n",
       "   YearsSinceLastPromotion  YearsWithCurrManager  \n",
       "0                        0                     5  \n",
       "1                        1                     7  \n",
       "2                        0                     0  \n",
       "3                        3                     0  \n",
       "4                        2                     2  "
      ]
     },
     "execution_count": 5,
     "metadata": {},
     "output_type": "execute_result"
    }
   ],
   "source": [
    "# now print head of dataset\n",
    "df.head()"
   ]
  },
  {
   "cell_type": "markdown",
   "id": "de43b540",
   "metadata": {},
   "source": [
    "- now you can see all the 35 columns are displaying"
   ]
  },
  {
   "cell_type": "code",
   "execution_count": 6,
   "id": "c3a7fd8b",
   "metadata": {},
   "outputs": [
    {
     "name": "stdout",
     "output_type": "stream",
     "text": [
      "The names of columns in this dataset are as follows: Index(['Age', 'Attrition', 'BusinessTravel', 'DailyRate', 'Department',\n",
      "       'DistanceFromHome', 'Education', 'EducationField', 'EmployeeCount',\n",
      "       'EmployeeNumber', 'EnvironmentSatisfaction', 'Gender', 'HourlyRate',\n",
      "       'JobInvolvement', 'JobLevel', 'JobRole', 'JobSatisfaction',\n",
      "       'MaritalStatus', 'MonthlyIncome', 'MonthlyRate', 'NumCompaniesWorked',\n",
      "       'Over18', 'OverTime', 'PercentSalaryHike', 'PerformanceRating',\n",
      "       'RelationshipSatisfaction', 'StandardHours', 'StockOptionLevel',\n",
      "       'TotalWorkingYears', 'TrainingTimesLastYear', 'WorkLifeBalance',\n",
      "       'YearsAtCompany', 'YearsInCurrentRole', 'YearsSinceLastPromotion',\n",
      "       'YearsWithCurrManager'],\n",
      "      dtype='object')\n"
     ]
    }
   ],
   "source": [
    "print(f\"The names of columns in this dataset are as follows: {df.columns}\")\n"
   ]
  },
  {
   "cell_type": "markdown",
   "id": "1b2e72ec",
   "metadata": {},
   "source": [
    "# Shape of the dataset"
   ]
  },
  {
   "cell_type": "code",
   "execution_count": 7,
   "id": "62c843de",
   "metadata": {},
   "outputs": [
    {
     "name": "stdout",
     "output_type": "stream",
     "text": [
      "The Number of Rows are 1470, and columns are 35.\n"
     ]
    }
   ],
   "source": [
    "print(f\"The Number of Rows are {df.shape[0]}, and columns are {df.shape[1]}.\")"
   ]
  },
  {
   "cell_type": "markdown",
   "id": "d3988247",
   "metadata": {},
   "source": [
    "# Basic Information about the dataset"
   ]
  },
  {
   "cell_type": "code",
   "execution_count": 8,
   "id": "8fbb8d52",
   "metadata": {},
   "outputs": [
    {
     "name": "stdout",
     "output_type": "stream",
     "text": [
      "Basic Information about the dataset:\n",
      "<class 'pandas.core.frame.DataFrame'>\n",
      "RangeIndex: 1470 entries, 0 to 1469\n",
      "Data columns (total 35 columns):\n",
      " #   Column                    Non-Null Count  Dtype \n",
      "---  ------                    --------------  ----- \n",
      " 0   Age                       1470 non-null   int64 \n",
      " 1   Attrition                 1470 non-null   object\n",
      " 2   BusinessTravel            1470 non-null   object\n",
      " 3   DailyRate                 1470 non-null   int64 \n",
      " 4   Department                1470 non-null   object\n",
      " 5   DistanceFromHome          1470 non-null   int64 \n",
      " 6   Education                 1470 non-null   int64 \n",
      " 7   EducationField            1470 non-null   object\n",
      " 8   EmployeeCount             1470 non-null   int64 \n",
      " 9   EmployeeNumber            1470 non-null   int64 \n",
      " 10  EnvironmentSatisfaction   1470 non-null   int64 \n",
      " 11  Gender                    1470 non-null   object\n",
      " 12  HourlyRate                1470 non-null   int64 \n",
      " 13  JobInvolvement            1470 non-null   int64 \n",
      " 14  JobLevel                  1470 non-null   int64 \n",
      " 15  JobRole                   1470 non-null   object\n",
      " 16  JobSatisfaction           1470 non-null   int64 \n",
      " 17  MaritalStatus             1470 non-null   object\n",
      " 18  MonthlyIncome             1470 non-null   int64 \n",
      " 19  MonthlyRate               1470 non-null   int64 \n",
      " 20  NumCompaniesWorked        1470 non-null   int64 \n",
      " 21  Over18                    1470 non-null   object\n",
      " 22  OverTime                  1470 non-null   object\n",
      " 23  PercentSalaryHike         1470 non-null   int64 \n",
      " 24  PerformanceRating         1470 non-null   int64 \n",
      " 25  RelationshipSatisfaction  1470 non-null   int64 \n",
      " 26  StandardHours             1470 non-null   int64 \n",
      " 27  StockOptionLevel          1470 non-null   int64 \n",
      " 28  TotalWorkingYears         1470 non-null   int64 \n",
      " 29  TrainingTimesLastYear     1470 non-null   int64 \n",
      " 30  WorkLifeBalance           1470 non-null   int64 \n",
      " 31  YearsAtCompany            1470 non-null   int64 \n",
      " 32  YearsInCurrentRole        1470 non-null   int64 \n",
      " 33  YearsSinceLastPromotion   1470 non-null   int64 \n",
      " 34  YearsWithCurrManager      1470 non-null   int64 \n",
      "dtypes: int64(26), object(9)\n",
      "memory usage: 402.1+ KB\n",
      "<class 'pandas.core.frame.DataFrame'>\n",
      "RangeIndex: 1470 entries, 0 to 1469\n",
      "Data columns (total 35 columns):\n",
      " #   Column                    Non-Null Count  Dtype \n",
      "---  ------                    --------------  ----- \n",
      " 0   Age                       1470 non-null   int64 \n",
      " 1   Attrition                 1470 non-null   object\n",
      " 2   BusinessTravel            1470 non-null   object\n",
      " 3   DailyRate                 1470 non-null   int64 \n",
      " 4   Department                1470 non-null   object\n",
      " 5   DistanceFromHome          1470 non-null   int64 \n",
      " 6   Education                 1470 non-null   int64 \n",
      " 7   EducationField            1470 non-null   object\n",
      " 8   EmployeeCount             1470 non-null   int64 \n",
      " 9   EmployeeNumber            1470 non-null   int64 \n",
      " 10  EnvironmentSatisfaction   1470 non-null   int64 \n",
      " 11  Gender                    1470 non-null   object\n",
      " 12  HourlyRate                1470 non-null   int64 \n",
      " 13  JobInvolvement            1470 non-null   int64 \n",
      " 14  JobLevel                  1470 non-null   int64 \n",
      " 15  JobRole                   1470 non-null   object\n",
      " 16  JobSatisfaction           1470 non-null   int64 \n",
      " 17  MaritalStatus             1470 non-null   object\n",
      " 18  MonthlyIncome             1470 non-null   int64 \n",
      " 19  MonthlyRate               1470 non-null   int64 \n",
      " 20  NumCompaniesWorked        1470 non-null   int64 \n",
      " 21  Over18                    1470 non-null   object\n",
      " 22  OverTime                  1470 non-null   object\n",
      " 23  PercentSalaryHike         1470 non-null   int64 \n",
      " 24  PerformanceRating         1470 non-null   int64 \n",
      " 25  RelationshipSatisfaction  1470 non-null   int64 \n",
      " 26  StandardHours             1470 non-null   int64 \n",
      " 27  StockOptionLevel          1470 non-null   int64 \n",
      " 28  TotalWorkingYears         1470 non-null   int64 \n",
      " 29  TrainingTimesLastYear     1470 non-null   int64 \n",
      " 30  WorkLifeBalance           1470 non-null   int64 \n",
      " 31  YearsAtCompany            1470 non-null   int64 \n",
      " 32  YearsInCurrentRole        1470 non-null   int64 \n",
      " 33  YearsSinceLastPromotion   1470 non-null   int64 \n",
      " 34  YearsWithCurrManager      1470 non-null   int64 \n",
      "dtypes: int64(26), object(9)\n",
      "memory usage: 402.1+ KB\n"
     ]
    }
   ],
   "source": [
    "# for displaing basic information about the dataset\n",
    "print(\"Basic Information about the dataset:\")\n",
    "df.info()"
   ]
  },
  {
   "cell_type": "markdown",
   "id": "f41988ad",
   "metadata": {},
   "source": [
    "# Observation\n",
    "---\n",
    "1. There are 1470 rows and 35 columns in the dataset\n",
    "2. The columns are of different data types\n",
    "3. The columns in the datasets are:<br>\n",
    "` - 'Age', 'Attrition', 'BusinessTravel', 'DailyRate', 'Department',\n",
    "       'DistanceFromHome', 'Education', 'EducationField', 'EmployeeCount',\n",
    "       'EmployeeNumber', 'EnvironmentSatisfaction', 'Gender', 'HourlyRate',\n",
    "       'JobInvolvement', 'JobLevel', 'JobRole', 'JobSatisfaction',\n",
    "       'MaritalStatus', 'MonthlyIncome', 'MonthlyRate', 'NumCompaniesWorked',\n",
    "       'Over18', 'OverTime', 'PercentSalaryHike', 'PerformanceRating',\n",
    "       'RelationshipSatisfaction', 'StandardHours', 'StockOptionLevel',\n",
    "       'TotalWorkingYears', 'TrainingTimesLastYear', 'WorkLifeBalance',\n",
    "       'YearsAtCompany', 'YearsInCurrentRole', 'YearsSinceLastPromotion',\n",
    "       'YearsWithCurrManager' `\n",
    "4. There is no any missing value in the dataset which which is good.\n",
    "---"
   ]
  },
  {
   "cell_type": "markdown",
   "id": "1265234f",
   "metadata": {},
   "source": [
    "- we can also check about missing value"
   ]
  },
  {
   "cell_type": "markdown",
   "id": "31b134f3",
   "metadata": {},
   "source": [
    "# Handling Missing Values"
   ]
  },
  {
   "cell_type": "code",
   "execution_count": 9,
   "id": "79413597",
   "metadata": {},
   "outputs": [
    {
     "data": {
      "text/plain": [
       "Age                         0\n",
       "Attrition                   0\n",
       "BusinessTravel              0\n",
       "DailyRate                   0\n",
       "Department                  0\n",
       "DistanceFromHome            0\n",
       "Education                   0\n",
       "EducationField              0\n",
       "EmployeeCount               0\n",
       "EmployeeNumber              0\n",
       "EnvironmentSatisfaction     0\n",
       "Gender                      0\n",
       "HourlyRate                  0\n",
       "JobInvolvement              0\n",
       "JobLevel                    0\n",
       "JobRole                     0\n",
       "JobSatisfaction             0\n",
       "MaritalStatus               0\n",
       "MonthlyIncome               0\n",
       "MonthlyRate                 0\n",
       "NumCompaniesWorked          0\n",
       "Over18                      0\n",
       "OverTime                    0\n",
       "PercentSalaryHike           0\n",
       "PerformanceRating           0\n",
       "RelationshipSatisfaction    0\n",
       "StandardHours               0\n",
       "StockOptionLevel            0\n",
       "TotalWorkingYears           0\n",
       "TrainingTimesLastYear       0\n",
       "WorkLifeBalance             0\n",
       "YearsAtCompany              0\n",
       "YearsInCurrentRole          0\n",
       "YearsSinceLastPromotion     0\n",
       "YearsWithCurrManager        0\n",
       "dtype: int64"
      ]
     },
     "execution_count": 9,
     "metadata": {},
     "output_type": "execute_result"
    }
   ],
   "source": [
    "df.isnull().sum()"
   ]
  },
  {
   "cell_type": "code",
   "execution_count": 10,
   "id": "c54e3896",
   "metadata": {},
   "outputs": [
    {
     "data": {
      "text/plain": [
       "np.int64(0)"
      ]
     },
     "execution_count": 10,
     "metadata": {},
     "output_type": "execute_result"
    }
   ],
   "source": [
    "df.isnull().sum().sum()"
   ]
  },
  {
   "cell_type": "markdown",
   "id": "1bb881e1",
   "metadata": {},
   "source": [
    "- from above code we can say there is no missing value"
   ]
  },
  {
   "cell_type": "markdown",
   "id": "0b02b475",
   "metadata": {},
   "source": [
    "# Handling Duplicate Values"
   ]
  },
  {
   "cell_type": "code",
   "execution_count": 11,
   "id": "79b67be9",
   "metadata": {},
   "outputs": [
    {
     "name": "stdout",
     "output_type": "stream",
     "text": [
      "The number of duplicate values in the dataset 0\n"
     ]
    }
   ],
   "source": [
    "# check for duplicate\n",
    "print(f\"The number of duplicate values in the dataset {df.duplicated().sum()}\")"
   ]
  },
  {
   "cell_type": "markdown",
   "id": "f2225111",
   "metadata": {},
   "source": [
    "- So there is no duplicate value in dataset"
   ]
  },
  {
   "cell_type": "markdown",
   "id": "fd19b505",
   "metadata": {},
   "source": [
    "- We can see in above data'columns description' that there are some columns which are not useful for analysis like 'EmployeeCount', 'EmployeeNumber', 'Over18', 'StandardHours'. So we can drop these columns."
   ]
  },
  {
   "cell_type": "code",
   "execution_count": 12,
   "id": "308be205",
   "metadata": {},
   "outputs": [],
   "source": [
    "df.drop(columns=['EmployeeCount', 'EmployeeNumber', 'Over18', 'StandardHours'], inplace=True)"
   ]
  },
  {
   "cell_type": "code",
   "execution_count": 13,
   "id": "a71154de",
   "metadata": {},
   "outputs": [
    {
     "data": {
      "text/plain": [
       "(1470, 31)"
      ]
     },
     "execution_count": 13,
     "metadata": {},
     "output_type": "execute_result"
    }
   ],
   "source": [
    "df.shape"
   ]
  },
  {
   "cell_type": "markdown",
   "id": "5c85542f",
   "metadata": {},
   "source": [
    "# Modifying Dataset"
   ]
  },
  {
   "cell_type": "markdown",
   "id": "372efca4",
   "metadata": {},
   "source": [
    "- In the dataset, there are some columns which are numerical but they can be categorical like `Education`, `JobLevel`, `StockOptionLevel`, `JobInvolvement`, `JobSatisfaction`, `EnvironmentSatisfaction`, `RelationshipSatisfaction`, `WorkLifeBalance`, `PerformanceRating`. So we can convert these columns to categorical."
   ]
  },
  {
   "cell_type": "code",
   "execution_count": 14,
   "id": "c0ce6bb6",
   "metadata": {},
   "outputs": [],
   "source": [
    "# Modifying JobSatisfaction column\n",
    "job_satisfaction_mapping = {\n",
    "    1: 'Low',\n",
    "    2: 'Medium',\n",
    "    3: 'High',\n",
    "    4: 'Very High'\n",
    "}\n",
    "df['JobSatisfaction'] = df['JobSatisfaction'].map(job_satisfaction_mapping)"
   ]
  },
  {
   "cell_type": "code",
   "execution_count": 15,
   "id": "4ffbe24a",
   "metadata": {},
   "outputs": [],
   "source": [
    "# Modifying StokOption Level column\n",
    "stock_option_mapping = {\n",
    "    0: 'No Stock Options',\n",
    "    1: 'Low Stock Options',\n",
    "    2: 'Medium Stock Options',\n",
    "    3: 'High Stock Options'\n",
    "}\n",
    "df['StockOptionLevel'] = df['StockOptionLevel'].map(stock_option_mapping)\n"
   ]
  },
  {
   "cell_type": "code",
   "execution_count": 16,
   "id": "1c302aef",
   "metadata": {},
   "outputs": [],
   "source": [
    "# modifying RelatingshipSatisfaction column\n",
    "relationship_satisfaction_mapping = {\n",
    "    1: 'Low',\n",
    "    2: 'Medium',\n",
    "    3: 'High',\n",
    "    4: 'Very High'\n",
    "}\n",
    "df['RelationshipSatisfaction'] = df['RelationshipSatisfaction'].map(relationship_satisfaction_mapping)"
   ]
  },
  {
   "cell_type": "code",
   "execution_count": 17,
   "id": "68c200b6",
   "metadata": {},
   "outputs": [],
   "source": [
    "# modifying EnvironmentSatisfaction column\n",
    "environment_satisfaction_mapping = {\n",
    "    1: 'Low',\n",
    "    2: 'Medium',\n",
    "    3: 'High',\n",
    "    4: 'Very High'\n",
    "}\n",
    "df['EnvironmentSatisfaction'] = df['EnvironmentSatisfaction'].map(environment_satisfaction_mapping)"
   ]
  },
  {
   "cell_type": "code",
   "execution_count": 18,
   "id": "00735242",
   "metadata": {},
   "outputs": [],
   "source": [
    "\n",
    "# Modifying WorkLifeBalance column\n",
    "work_life_balance_mapping = {\n",
    "    1: 'Bad',\n",
    "    2: 'Good',\n",
    "    3: 'Better',\n",
    "    4: 'Best'\n",
    "}\n",
    "df['WorkLifeBalance'] = df['WorkLifeBalance'].map(work_life_balance_mapping)"
   ]
  },
  {
   "cell_type": "code",
   "execution_count": 19,
   "id": "13dcd7bf",
   "metadata": {},
   "outputs": [],
   "source": [
    "# Modifying JobInvolvement column\n",
    "job_involvement_mapping = {\n",
    "    1: 'Low',\n",
    "    2: 'Medium',\n",
    "    3: 'High',\n",
    "    4: 'Very High',\n",
    "}\n",
    "df['JobInvolvement'] = df['JobInvolvement'].map(job_involvement_mapping)"
   ]
  },
  {
   "cell_type": "code",
   "execution_count": 20,
   "id": "7beb6887",
   "metadata": {},
   "outputs": [],
   "source": [
    "# Modifying education column\n",
    "education_mapping = {\n",
    "    1: 'Below College',\n",
    "    2: 'College',\n",
    "    3: 'Bachelor',\n",
    "    4: 'Master',\n",
    "    5: 'Doctor'\n",
    "}\n",
    "df['Education'] = df['Education'].map(education_mapping)"
   ]
  },
  {
   "cell_type": "code",
   "execution_count": 21,
   "id": "c9762f6d",
   "metadata": {},
   "outputs": [],
   "source": [
    "# Modifying JobLevel column\n",
    "job_level_mapping = {\n",
    "    1: 'Entry Level',\n",
    "    2: 'Mid Level',\n",
    "    3: 'Senior Level',\n",
    "    4: 'Lead Level',\n",
    "    5: 'Executive'\n",
    "}\n",
    "df['JobLevel'] = df['JobLevel'].map(job_level_mapping)"
   ]
  },
  {
   "cell_type": "code",
   "execution_count": 22,
   "id": "89289a6b",
   "metadata": {},
   "outputs": [],
   "source": [
    "# Modifying PerformanceRating column\n",
    "performance_rating_mapping = {\n",
    "    3: 'Excellent',\n",
    "    4: 'Outstanding'\n",
    "}\n",
    "df['PerformanceRating'] = df['PerformanceRating'].map(performance_rating_mapping)"
   ]
  },
  {
   "cell_type": "markdown",
   "id": "d39ac3bd",
   "metadata": {},
   "source": [
    "## Insightful Questions for Analysis\n",
    "Here are 5 questions you can explore with this dataset:\n",
    "\n",
    "1. What is the overall attrition rate in the company?\n",
    "2. How does attrition rate vary by department?\n",
    "3. Which job roles have the highest and lowest attrition rates?\n",
    "4. How does job satisfaction relate to attrition?\n",
    "5. Is there a difference in attrition rates between genders?\n"
   ]
  },
  {
   "cell_type": "markdown",
   "id": "89f64dcb",
   "metadata": {},
   "source": [
    "### 1. What is the overall attrition rate in the company?"
   ]
  },
  {
   "cell_type": "code",
   "execution_count": 23,
   "id": "fdd35e48",
   "metadata": {},
   "outputs": [
    {
     "name": "stdout",
     "output_type": "stream",
     "text": [
      "Overall attrition rate in the company: 16.12%\n"
     ]
    }
   ],
   "source": [
    "# Calculate overall attrition rate in the company\n",
    "attrition_rate = df['Attrition'].value_counts(normalize=True)['Yes'] * 100\n",
    "print(f\"Overall attrition rate in the company: {attrition_rate:.2f}%\")"
   ]
  },
  {
   "cell_type": "markdown",
   "id": "eada360f",
   "metadata": {},
   "source": [
    "- Visualizing Overall Attrition Count"
   ]
  },
  {
   "cell_type": "code",
   "execution_count": null,
   "id": "969e7757",
   "metadata": {},
   "outputs": [
    {
     "data": {
      "image/png": "[encoded data removed]",
      "text/plain": [
       "<Figure size 600x400 with 1 Axes>"
      ]
     },
     "metadata": {},
     "output_type": "display_data"
    }
   ],
   "source": [
    "# Visualizing Overall Attrition Rate\n",
    "plt.figure(figsize=(6,4))\n",
    "sns.countplot(x='Attrition', data=df, palette='Set2')\n",
    "plt.title('Overall Attrition Count')\n",
    "plt.xlabel('Attrition')\n",
    "plt.ylabel('Count')\n",
    "plt.show()"
   ]
  },
  {
   "cell_type": "markdown",
   "id": "012b319a",
   "metadata": {},
   "source": [
    "### 2. How does attrition count vary by department?\n"
   ]
  },
  {
   "cell_type": "code",
   "execution_count": null,
   "id": "fcf8c8dc",
   "metadata": {},
   "outputs": [
    {
     "data": {
      "image/png": "[encoded data removed]",
      "text/plain": [
       "<Figure size 800x500 with 1 Axes>"
      ]
     },
     "metadata": {},
     "output_type": "display_data"
    }
   ],
   "source": [
    "plt.figure(figsize=(8,5))\n",
    "attrition_by_dept_plot = df.groupby(['Department', 'Attrition']).size().reset_index(name='Count')\n",
    "sns.barplot(\n",
    "    data=attrition_by_dept_plot,\n",
    "    x='Department', y='Count', hue='Attrition', palette='Set1')\n",
    "plt.title('Attrition Count by Department')\n",
    "plt.ylabel('Count')\n",
    "plt.xticks(rotation=30)\n",
    "plt.show()"
   ]
  },
  {
   "cell_type": "markdown",
   "id": "986d04eb",
   "metadata": {},
   "source": [
    "### 3. Which job roles have the highest and lowest attrition rates?\n"
   ]
  },
  {
   "cell_type": "code",
   "execution_count": 152,
   "id": "5127adbd",
   "metadata": {},
   "outputs": [
    {
     "data": {
      "text/html": [
       "<div>\n",
       "<style scoped>\n",
       "    .dataframe tbody tr th:only-of-type {\n",
       "        vertical-align: middle;\n",
       "    }\n",
       "\n",
       "    .dataframe tbody tr th {\n",
       "        vertical-align: top;\n",
       "    }\n",
       "\n",
       "    .dataframe thead th {\n",
       "        text-align: right;\n",
       "    }\n",
       "</style>\n",
       "<table border=\"1\" class=\"dataframe\">\n",
       "  <thead>\n",
       "    <tr style=\"text-align: right;\">\n",
       "      <th>Attrition</th>\n",
       "      <th>No</th>\n",
       "      <th>Yes</th>\n",
       "      <th>AttritionRateCategory</th>\n",
       "    </tr>\n",
       "    <tr>\n",
       "      <th>JobRole</th>\n",
       "      <th></th>\n",
       "      <th></th>\n",
       "      <th></th>\n",
       "    </tr>\n",
       "  </thead>\n",
       "  <tbody>\n",
       "    <tr>\n",
       "      <th>Healthcare Representative</th>\n",
       "      <td>93.129771</td>\n",
       "      <td>6.870229</td>\n",
       "      <td>Low</td>\n",
       "    </tr>\n",
       "    <tr>\n",
       "      <th>Human Resources</th>\n",
       "      <td>76.923077</td>\n",
       "      <td>23.076923</td>\n",
       "      <td>Low</td>\n",
       "    </tr>\n",
       "    <tr>\n",
       "      <th>Laboratory Technician</th>\n",
       "      <td>76.061776</td>\n",
       "      <td>23.938224</td>\n",
       "      <td>Low</td>\n",
       "    </tr>\n",
       "    <tr>\n",
       "      <th>Manager</th>\n",
       "      <td>95.098039</td>\n",
       "      <td>4.901961</td>\n",
       "      <td>Low</td>\n",
       "    </tr>\n",
       "    <tr>\n",
       "      <th>Manufacturing Director</th>\n",
       "      <td>93.103448</td>\n",
       "      <td>6.896552</td>\n",
       "      <td>Low</td>\n",
       "    </tr>\n",
       "    <tr>\n",
       "      <th>Research Director</th>\n",
       "      <td>97.500000</td>\n",
       "      <td>2.500000</td>\n",
       "      <td>Low</td>\n",
       "    </tr>\n",
       "    <tr>\n",
       "      <th>Research Scientist</th>\n",
       "      <td>83.904110</td>\n",
       "      <td>16.095890</td>\n",
       "      <td>Low</td>\n",
       "    </tr>\n",
       "    <tr>\n",
       "      <th>Sales Executive</th>\n",
       "      <td>82.515337</td>\n",
       "      <td>17.484663</td>\n",
       "      <td>Low</td>\n",
       "    </tr>\n",
       "    <tr>\n",
       "      <th>Sales Representative</th>\n",
       "      <td>60.240964</td>\n",
       "      <td>39.759036</td>\n",
       "      <td>Low</td>\n",
       "    </tr>\n",
       "  </tbody>\n",
       "</table>\n",
       "</div>"
      ],
      "text/plain": [
       "Attrition                         No        Yes AttritionRateCategory\n",
       "JobRole                                                              \n",
       "Healthcare Representative  93.129771   6.870229                   Low\n",
       "Human Resources            76.923077  23.076923                   Low\n",
       "Laboratory Technician      76.061776  23.938224                   Low\n",
       "Manager                    95.098039   4.901961                   Low\n",
       "Manufacturing Director     93.103448   6.896552                   Low\n",
       "Research Director          97.500000   2.500000                   Low\n",
       "Research Scientist         83.904110  16.095890                   Low\n",
       "Sales Executive            82.515337  17.484663                   Low\n",
       "Sales Representative       60.240964  39.759036                   Low"
      ]
     },
     "execution_count": 152,
     "metadata": {},
     "output_type": "execute_result"
    }
   ],
   "source": [
    "job_role_attr_rate = df.groupby('JobRole')['Attrition'].value_counts(normalize=True).unstack().fillna(0) * 100\n",
    "job_role_attr_rate['AttritionRateCategory'] = np.where(job_role_attr_rate['Yes'] > 50, 'High', 'Low')\n",
    "job_role_attr_rate"
   ]
  },
  {
   "cell_type": "markdown",
   "id": "dd3bf143",
   "metadata": {},
   "source": [
    "- from above output we can say that each job role has low attrition rate. I set 50% criteria to categorize job roles into high and low attrition rates. You can adjust this threshold based on your analysis needs.\n",
    "\n",
    "- we can visualize it as"
   ]
  },
  {
   "cell_type": "code",
   "execution_count": null,
   "id": "bbb5b836",
   "metadata": {},
   "outputs": [
    {
     "data": {
      "image/png": "[encoded data removed]",
      "text/plain": [
       "<Figure size 1000x500 with 1 Axes>"
      ]
     },
     "metadata": {},
     "output_type": "display_data"
    }
   ],
   "source": [
    "\n",
    "# Seaborn/Matplotlib version for attrition by job role\n",
    "plt.figure(figsize=(10,5))\n",
    "sns.barplot(\n",
    "    data=df.groupby(['JobRole', 'Attrition']).size().reset_index(name='Count'),\n",
    "    x='JobRole', y='Count', hue='Attrition', palette='Set2')\n",
    "plt.title('Attrition Count by Job Role')\n",
    "plt.ylabel('Count')\n",
    "plt.xticks(rotation=45, ha='right')\n",
    "plt.show()"
   ]
  },
  {
   "cell_type": "markdown",
   "id": "b54b3b59",
   "metadata": {},
   "source": [
    "### 4. How does job satisfaction relate to attrition?\n"
   ]
  },
  {
   "cell_type": "code",
   "execution_count": 160,
   "id": "d0217213",
   "metadata": {},
   "outputs": [
    {
     "data": {
      "text/html": [
       "<div>\n",
       "<style scoped>\n",
       "    .dataframe tbody tr th:only-of-type {\n",
       "        vertical-align: middle;\n",
       "    }\n",
       "\n",
       "    .dataframe tbody tr th {\n",
       "        vertical-align: top;\n",
       "    }\n",
       "\n",
       "    .dataframe thead th {\n",
       "        text-align: right;\n",
       "    }\n",
       "</style>\n",
       "<table border=\"1\" class=\"dataframe\">\n",
       "  <thead>\n",
       "    <tr style=\"text-align: right;\">\n",
       "      <th>Attrition</th>\n",
       "      <th>No</th>\n",
       "      <th>Yes</th>\n",
       "    </tr>\n",
       "    <tr>\n",
       "      <th>JobSatisfaction</th>\n",
       "      <th></th>\n",
       "      <th></th>\n",
       "    </tr>\n",
       "  </thead>\n",
       "  <tbody>\n",
       "    <tr>\n",
       "      <th>High</th>\n",
       "      <td>83.484163</td>\n",
       "      <td>16.515837</td>\n",
       "    </tr>\n",
       "    <tr>\n",
       "      <th>Low</th>\n",
       "      <td>77.162630</td>\n",
       "      <td>22.837370</td>\n",
       "    </tr>\n",
       "    <tr>\n",
       "      <th>Medium</th>\n",
       "      <td>83.571429</td>\n",
       "      <td>16.428571</td>\n",
       "    </tr>\n",
       "    <tr>\n",
       "      <th>Very High</th>\n",
       "      <td>88.671024</td>\n",
       "      <td>11.328976</td>\n",
       "    </tr>\n",
       "  </tbody>\n",
       "</table>\n",
       "</div>"
      ],
      "text/plain": [
       "Attrition               No        Yes\n",
       "JobSatisfaction                      \n",
       "High             83.484163  16.515837\n",
       "Low              77.162630  22.837370\n",
       "Medium           83.571429  16.428571\n",
       "Very High        88.671024  11.328976"
      ]
     },
     "execution_count": 160,
     "metadata": {},
     "output_type": "execute_result"
    }
   ],
   "source": [
    "job_sat_attr = df.groupby('JobSatisfaction')['Attrition'].value_counts(normalize=True).unstack().fillna(0) * 100\n",
    "job_sat_attr"
   ]
  },
  {
   "cell_type": "code",
   "execution_count": null,
   "id": "061d6640",
   "metadata": {},
   "outputs": [
    {
     "data": {
      "image/png": "[encoded data removed]",
      "text/plain": [
       "<Figure size 700x500 with 1 Axes>"
      ]
     },
     "metadata": {},
     "output_type": "display_data"
    }
   ],
   "source": [
    "\n",
    "plt.figure(figsize=(7,5))\n",
    "sns.barplot(\n",
    "    data=df.groupby(['JobSatisfaction', 'Attrition']).size().reset_index(name='Count'),\n",
    "    x='JobSatisfaction', y='Count', hue='Attrition', palette='Set1')\n",
    "plt.title('Attrition Count by Job Satisfaction')\n",
    "plt.ylabel('Count')\n",
    "plt.xlabel('Job Satisfaction')\n",
    "plt.show()"
   ]
  },
  {
   "cell_type": "markdown",
   "id": "f5dac81c",
   "metadata": {},
   "source": [
    "### 5. Is there a difference in attrition rates between genders?\n"
   ]
  },
  {
   "cell_type": "code",
   "execution_count": 36,
   "id": "d177fec5",
   "metadata": {},
   "outputs": [
    {
     "data": {
      "text/html": [
       "<div>\n",
       "<style scoped>\n",
       "    .dataframe tbody tr th:only-of-type {\n",
       "        vertical-align: middle;\n",
       "    }\n",
       "\n",
       "    .dataframe tbody tr th {\n",
       "        vertical-align: top;\n",
       "    }\n",
       "\n",
       "    .dataframe thead th {\n",
       "        text-align: right;\n",
       "    }\n",
       "</style>\n",
       "<table border=\"1\" class=\"dataframe\">\n",
       "  <thead>\n",
       "    <tr style=\"text-align: right;\">\n",
       "      <th>Attrition</th>\n",
       "      <th>No</th>\n",
       "      <th>Yes</th>\n",
       "    </tr>\n",
       "    <tr>\n",
       "      <th>Gender</th>\n",
       "      <th></th>\n",
       "      <th></th>\n",
       "    </tr>\n",
       "  </thead>\n",
       "  <tbody>\n",
       "    <tr>\n",
       "      <th>Female</th>\n",
       "      <td>85.204082</td>\n",
       "      <td>14.795918</td>\n",
       "    </tr>\n",
       "    <tr>\n",
       "      <th>Male</th>\n",
       "      <td>82.993197</td>\n",
       "      <td>17.006803</td>\n",
       "    </tr>\n",
       "  </tbody>\n",
       "</table>\n",
       "</div>"
      ],
      "text/plain": [
       "Attrition         No        Yes\n",
       "Gender                         \n",
       "Female     85.204082  14.795918\n",
       "Male       82.993197  17.006803"
      ]
     },
     "execution_count": 36,
     "metadata": {},
     "output_type": "execute_result"
    }
   ],
   "source": [
    "attr_rate_gender = df.groupby('Gender')['Attrition'].value_counts(normalize=True).unstack().fillna(0) * 100\n",
    "attr_rate_gender"
   ]
  },
  {
   "cell_type": "code",
   "execution_count": null,
   "id": "eb9ee84e",
   "metadata": {},
   "outputs": [
    {
     "data": {
      "image/png": "[encoded data removed]",
      "text/plain": [
       "<Figure size 600x400 with 1 Axes>"
      ]
     },
     "metadata": {},
     "output_type": "display_data"
    }
   ],
   "source": [
    "\n",
    "plt.figure(figsize=(6,4))\n",
    "sns.barplot(\n",
    "    data=df.groupby(['Gender', 'Attrition']).size().reset_index(name='Count'),\n",
    "    x='Gender', y='Count', hue='Attrition', palette='Set2')\n",
    "plt.title('Attrition Count by Gender')\n",
    "plt.ylabel('Count')\n",
    "plt.xlabel('Gender')\n",
    "plt.show()"
   ]
  },
  {
   "cell_type": "markdown",
   "id": "1389614c",
   "metadata": {},
   "source": [
    "- These are some of the insightful questions you can explore with this dataset. You can further analyze these aspects using visualizations, statistical tests, or machine learning models to gain deeper insights into employee attrition and its contributing factors.|"
   ]
  },
  {
   "cell_type": "markdown",
   "id": "b7de0893",
   "metadata": {},
   "source": [
    "# Summary\n",
    "\n",
    "- This EDA provided a comprehensive overview of the IBM HR Analytics dataset, including data cleaning, transformation, and visualization.\n",
    "- Key factors influencing employee attrition were explored, such as department, job role, satisfaction, and gender.\n",
    "- Visualizations helped uncover patterns and differences in attrition rates across various employee groups.\n",
    "- No significant data quality issues were found, and all relevant columns were properly handled.\n",
    "- These insights can guide further predictive modeling or targeted HR interventions to reduce attrition.\n"
   ]
  }
 ],
 "metadata": {
  "kernelspec": {
   "display_name": "dscodanics",
   "language": "python",
   "name": "python3"
  },
  "language_info": {
   "codemirror_mode": {
    "name": "ipython",
    "version": 3
   },
   "file_extension": ".py",
   "mimetype": "text/x-python",
   "name": "python",
   "nbconvert_exporter": "python",
   "pygments_lexer": "ipython3",
   "version": "3.12.11"
  }
 },
 "nbformat": 4,
 "nbformat_minor": 5
}
